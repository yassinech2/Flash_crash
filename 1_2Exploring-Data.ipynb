{
 "cells": [
  {
   "cell_type": "code",
   "execution_count": 1,
   "id": "4330bfbf-c27b-439b-942e-6ac31d5af71c",
   "metadata": {},
   "outputs": [],
   "source": [
    "import vaex\n",
    "import pandas as pd \n",
    "import numpy as np\n",
    "import os \n",
    "import dask\n",
    "from datetime import datetime\n",
    "import dask.dataframe as dd\n",
    "from dask import delayed,compute\n",
    "import sys \n",
    "current_dir = os.getcwd()\n",
    "loading_dir = os.path.join(current_dir,\"data\",\"raw\",\n",
    "                           \"flash_crash_DJIA\",\"csv_files\")\n",
    "saving_dir = os.path.join(current_dir,\"data\",\"clean\",\"flash_crash\")\n",
    "src_path = current_dir + \"/src\"\n",
    "sys.path.append(src_path)"
   ]
  },
  {
   "cell_type": "code",
   "execution_count": 2,
   "id": "85c01b0b-580a-4856-822c-a787d7c2c0dc",
   "metadata": {},
   "outputs": [],
   "source": [
    "import loading_parallel"
   ]
  },
  {
   "cell_type": "markdown",
   "id": "ca8aa528-817e-40e5-ae58-c9454893e269",
   "metadata": {},
   "source": [
    "#### Testing at first the extraction function : "
   ]
  },
  {
   "cell_type": "code",
   "execution_count": 3,
   "id": "a7134a1c-71e6-405d-b1eb-24bd9d2d0e41",
   "metadata": {},
   "outputs": [],
   "source": [
    "ticker = \"AAPL.OQ-2010\"\n",
    "bbo_files, trade_files = loading_parallel.extract_files(loading_dir,\n",
    "                                       ticker,\n",
    "                                       \"2010-01-01\",\n",
    "                                       \"2010-01-05\")"
   ]
  },
  {
   "cell_type": "code",
   "execution_count": 11,
   "id": "d2804ba0-47e7-4f96-98ba-c129049e36d1",
   "metadata": {},
   "outputs": [
    {
     "name": "stdout",
     "output_type": "stream",
     "text": [
      "['/Users/ilyesbenayed/Desktop/Big data/data/raw/flash_crash_DJIA/csv_files/AAPL.OQ-2010/trade/2010_01/2010-01-01-AAPL.OQ-trade.csv.gz', '/Users/ilyesbenayed/Desktop/Big data/data/raw/flash_crash_DJIA/csv_files/AAPL.OQ-2010/trade/2010_01/2010-01-04-AAPL.OQ-trade.csv.gz', '/Users/ilyesbenayed/Desktop/Big data/data/raw/flash_crash_DJIA/csv_files/AAPL.OQ-2010/trade/2010_01/2010-01-05-AAPL.OQ-trade.csv.gz']\n",
      "['/Users/ilyesbenayed/Desktop/Big data/data/raw/flash_crash_DJIA/csv_files/AAPL.OQ-2010/bbo/2010_01/2010-01-05-AAPL.OQ-bbo.csv.gz', '/Users/ilyesbenayed/Desktop/Big data/data/raw/flash_crash_DJIA/csv_files/AAPL.OQ-2010/bbo/2010_01/2010-01-04-AAPL.OQ-bbo.csv.gz', '/Users/ilyesbenayed/Desktop/Big data/data/raw/flash_crash_DJIA/csv_files/AAPL.OQ-2010/bbo/2010_01/2010-01-01-AAPL.OQ-bbo.csv.gz']\n"
     ]
    }
   ],
   "source": [
    "print(trade_files)\n",
    "print(bbo_files)"
   ]
  },
  {
   "cell_type": "markdown",
   "id": "3c25bf5a-8d35-4582-9f0f-9a20bf10c6e3",
   "metadata": {},
   "source": [
    "## The function works well : now time to test loadTRTH"
   ]
  },
  {
   "cell_type": "markdown",
   "id": "69bf9669-7b6c-44ba-959b-3c5ba7bae9a3",
   "metadata": {},
   "source": [
    "#### This is an example on how to read one TRTH file : "
   ]
  },
  {
   "cell_type": "code",
   "execution_count": 12,
   "id": "710dfbee-fc95-44b3-980d-2a881a5bdccb",
   "metadata": {},
   "outputs": [
    {
     "data": {
      "text/plain": [
       "(                                     trade_price  trade_volume\n",
       " xltime                                                        \n",
       " 2010-01-04 09:30:00.576999424-05:00     213.5250           400\n",
       " 2010-01-04 09:30:00.616000-05:00        213.5375          1130\n",
       " 2010-01-04 09:30:00.635999488-05:00     213.5000           100\n",
       " 2010-01-04 09:30:00.648999936-05:00     213.5500           100\n",
       " 2010-01-04 09:30:00.676999680-05:00     213.5000           100\n",
       " ...                                          ...           ...\n",
       " 2010-01-04 15:59:59.526999808-05:00     214.2900          1231\n",
       " 2010-01-04 15:59:59.537999872-05:00     214.2800          2169\n",
       " 2010-01-04 15:59:59.746000128-05:00     214.3300           700\n",
       " 2010-01-04 15:59:59.828999680-05:00     214.2900           800\n",
       " 2010-01-04 15:59:59.988999936-05:00     214.2700          1901\n",
       " \n",
       " [18379 rows x 2 columns],)"
      ]
     },
     "execution_count": 12,
     "metadata": {},
     "output_type": "execute_result"
    }
   ],
   "source": [
    "trth_file = loading_parallel.load_TRTH_trade(trade_files[1])\n",
    "compute(trth_file)"
   ]
  },
  {
   "cell_type": "markdown",
   "id": "e385acfb-f017-4e41-9a03-a4bd6aef7d24",
   "metadata": {},
   "source": [
    "#### Example of reading too many files and concatenate them together : "
   ]
  },
  {
   "cell_type": "code",
   "execution_count": 4,
   "id": "eef30ecd-acd0-4d3a-8018-bc37d661a6f2",
   "metadata": {},
   "outputs": [],
   "source": [
    "def read_TRTH_files(trade_files):\n",
    "    delayed_dfs = []\n",
    "    for file in trade_files:\n",
    "        delayed_df = delayed(loading_parallel.load_TRTH_trade)(file,\n",
    "                                              only_regular_trading_hours=True,\n",
    "                                              merge_sub_trades=True,\n",
    "                                              drop_columns=True)\n",
    "        delayed_dfs.append(delayed_df)\n",
    "    dfs = compute(*delayed_dfs)\n",
    "    final_df = pd.concat(dfs, ignore_index=False)\n",
    "    final_df = final_df.sort_index()\n",
    "    return final_df"
   ]
  },
  {
   "cell_type": "code",
   "execution_count": 14,
   "id": "49bd2071-a7eb-42c1-9398-9769d9867cec",
   "metadata": {},
   "outputs": [
    {
     "name": "stdout",
     "output_type": "stream",
     "text": [
      "CPU times: user 8.24 ms, sys: 11.5 ms, total: 19.7 ms\n",
      "Wall time: 459 ms\n"
     ]
    },
    {
     "data": {
      "text/html": [
       "<div>\n",
       "<style scoped>\n",
       "    .dataframe tbody tr th:only-of-type {\n",
       "        vertical-align: middle;\n",
       "    }\n",
       "\n",
       "    .dataframe tbody tr th {\n",
       "        vertical-align: top;\n",
       "    }\n",
       "\n",
       "    .dataframe thead th {\n",
       "        text-align: right;\n",
       "    }\n",
       "</style>\n",
       "<table border=\"1\" class=\"dataframe\">\n",
       "  <thead>\n",
       "    <tr style=\"text-align: right;\">\n",
       "      <th></th>\n",
       "      <th>trade_price</th>\n",
       "      <th>trade_volume</th>\n",
       "    </tr>\n",
       "    <tr>\n",
       "      <th>xltime</th>\n",
       "      <th></th>\n",
       "      <th></th>\n",
       "    </tr>\n",
       "  </thead>\n",
       "  <tbody>\n",
       "    <tr>\n",
       "      <th>2010-01-04 09:30:00.576999424-05:00</th>\n",
       "      <td>213.5250</td>\n",
       "      <td>400</td>\n",
       "    </tr>\n",
       "    <tr>\n",
       "      <th>2010-01-04 09:30:00.616000-05:00</th>\n",
       "      <td>213.5375</td>\n",
       "      <td>1130</td>\n",
       "    </tr>\n",
       "    <tr>\n",
       "      <th>2010-01-04 09:30:00.635999488-05:00</th>\n",
       "      <td>213.5000</td>\n",
       "      <td>100</td>\n",
       "    </tr>\n",
       "    <tr>\n",
       "      <th>2010-01-04 09:30:00.648999936-05:00</th>\n",
       "      <td>213.5500</td>\n",
       "      <td>100</td>\n",
       "    </tr>\n",
       "    <tr>\n",
       "      <th>2010-01-04 09:30:00.676999680-05:00</th>\n",
       "      <td>213.5000</td>\n",
       "      <td>100</td>\n",
       "    </tr>\n",
       "    <tr>\n",
       "      <th>...</th>\n",
       "      <td>...</td>\n",
       "      <td>...</td>\n",
       "    </tr>\n",
       "    <tr>\n",
       "      <th>2010-01-05 15:59:59.070999296-05:00</th>\n",
       "      <td>214.3200</td>\n",
       "      <td>396</td>\n",
       "    </tr>\n",
       "    <tr>\n",
       "      <th>2010-01-05 15:59:59.480999424-05:00</th>\n",
       "      <td>214.3700</td>\n",
       "      <td>685</td>\n",
       "    </tr>\n",
       "    <tr>\n",
       "      <th>2010-01-05 15:59:59.482000384-05:00</th>\n",
       "      <td>214.3700</td>\n",
       "      <td>815</td>\n",
       "    </tr>\n",
       "    <tr>\n",
       "      <th>2010-01-05 15:59:59.792999936-05:00</th>\n",
       "      <td>214.3500</td>\n",
       "      <td>200</td>\n",
       "    </tr>\n",
       "    <tr>\n",
       "      <th>2010-01-05 15:59:59.967000064-05:00</th>\n",
       "      <td>214.3700</td>\n",
       "      <td>1118</td>\n",
       "    </tr>\n",
       "  </tbody>\n",
       "</table>\n",
       "<p>38353 rows × 2 columns</p>\n",
       "</div>"
      ],
      "text/plain": [
       "                                     trade_price  trade_volume\n",
       "xltime                                                        \n",
       "2010-01-04 09:30:00.576999424-05:00     213.5250           400\n",
       "2010-01-04 09:30:00.616000-05:00        213.5375          1130\n",
       "2010-01-04 09:30:00.635999488-05:00     213.5000           100\n",
       "2010-01-04 09:30:00.648999936-05:00     213.5500           100\n",
       "2010-01-04 09:30:00.676999680-05:00     213.5000           100\n",
       "...                                          ...           ...\n",
       "2010-01-05 15:59:59.070999296-05:00     214.3200           396\n",
       "2010-01-05 15:59:59.480999424-05:00     214.3700           685\n",
       "2010-01-05 15:59:59.482000384-05:00     214.3700           815\n",
       "2010-01-05 15:59:59.792999936-05:00     214.3500           200\n",
       "2010-01-05 15:59:59.967000064-05:00     214.3700          1118\n",
       "\n",
       "[38353 rows x 2 columns]"
      ]
     },
     "execution_count": 14,
     "metadata": {},
     "output_type": "execute_result"
    }
   ],
   "source": [
    "%%time \n",
    "read_TRTH_files(trade_files)"
   ]
  },
  {
   "cell_type": "markdown",
   "id": "6fc84ec5-d6c6-4814-9822-2e6351c3397b",
   "metadata": {},
   "source": [
    "#### Remark: The function works well with multiple entries : \n",
    "Let's measure the time to read January month "
   ]
  },
  {
   "cell_type": "code",
   "execution_count": 15,
   "id": "1b3f0184-f343-47e3-a3f0-b00ef832aa07",
   "metadata": {},
   "outputs": [],
   "source": [
    "bbo_files, trade_files = loading_parallel.extract_files(loading_dir,\n",
    "                                       ticker,\n",
    "                                       \"2010-01-01\",\n",
    "                                       \"2010-01-31\")"
   ]
  },
  {
   "cell_type": "code",
   "execution_count": 16,
   "id": "3798e1cd-b6d4-4a68-96ea-07c4e2c82d57",
   "metadata": {},
   "outputs": [
    {
     "name": "stdout",
     "output_type": "stream",
     "text": [
      "CPU times: user 41.7 ms, sys: 28.5 ms, total: 70.2 ms\n",
      "Wall time: 1.01 s\n"
     ]
    },
    {
     "data": {
      "text/html": [
       "<div>\n",
       "<style scoped>\n",
       "    .dataframe tbody tr th:only-of-type {\n",
       "        vertical-align: middle;\n",
       "    }\n",
       "\n",
       "    .dataframe tbody tr th {\n",
       "        vertical-align: top;\n",
       "    }\n",
       "\n",
       "    .dataframe thead th {\n",
       "        text-align: right;\n",
       "    }\n",
       "</style>\n",
       "<table border=\"1\" class=\"dataframe\">\n",
       "  <thead>\n",
       "    <tr style=\"text-align: right;\">\n",
       "      <th></th>\n",
       "      <th>trade_price</th>\n",
       "      <th>trade_volume</th>\n",
       "    </tr>\n",
       "    <tr>\n",
       "      <th>xltime</th>\n",
       "      <th></th>\n",
       "      <th></th>\n",
       "    </tr>\n",
       "  </thead>\n",
       "  <tbody>\n",
       "    <tr>\n",
       "      <th>2010-01-04 09:30:00.576999424-05:00</th>\n",
       "      <td>213.525000</td>\n",
       "      <td>400.0</td>\n",
       "    </tr>\n",
       "    <tr>\n",
       "      <th>2010-01-04 09:30:00.616000-05:00</th>\n",
       "      <td>213.537500</td>\n",
       "      <td>1130.0</td>\n",
       "    </tr>\n",
       "    <tr>\n",
       "      <th>2010-01-04 09:30:00.635999488-05:00</th>\n",
       "      <td>213.500000</td>\n",
       "      <td>100.0</td>\n",
       "    </tr>\n",
       "    <tr>\n",
       "      <th>2010-01-04 09:30:00.648999936-05:00</th>\n",
       "      <td>213.550000</td>\n",
       "      <td>100.0</td>\n",
       "    </tr>\n",
       "    <tr>\n",
       "      <th>2010-01-04 09:30:00.676999680-05:00</th>\n",
       "      <td>213.500000</td>\n",
       "      <td>100.0</td>\n",
       "    </tr>\n",
       "    <tr>\n",
       "      <th>...</th>\n",
       "      <td>...</td>\n",
       "      <td>...</td>\n",
       "    </tr>\n",
       "    <tr>\n",
       "      <th>2010-01-29 15:59:59.755999232-05:00</th>\n",
       "      <td>192.155000</td>\n",
       "      <td>300.0</td>\n",
       "    </tr>\n",
       "    <tr>\n",
       "      <th>2010-01-29 15:59:59.772000-05:00</th>\n",
       "      <td>192.000000</td>\n",
       "      <td>200.0</td>\n",
       "    </tr>\n",
       "    <tr>\n",
       "      <th>2010-01-29 15:59:59.813999616-05:00</th>\n",
       "      <td>192.185714</td>\n",
       "      <td>4048.0</td>\n",
       "    </tr>\n",
       "    <tr>\n",
       "      <th>2010-01-29 15:59:59.845999616-05:00</th>\n",
       "      <td>192.090000</td>\n",
       "      <td>4100.0</td>\n",
       "    </tr>\n",
       "    <tr>\n",
       "      <th>2010-01-29 15:59:59.987999744-05:00</th>\n",
       "      <td>192.000000</td>\n",
       "      <td>1300.0</td>\n",
       "    </tr>\n",
       "  </tbody>\n",
       "</table>\n",
       "<p>562722 rows × 2 columns</p>\n",
       "</div>"
      ],
      "text/plain": [
       "                                     trade_price  trade_volume\n",
       "xltime                                                        \n",
       "2010-01-04 09:30:00.576999424-05:00   213.525000         400.0\n",
       "2010-01-04 09:30:00.616000-05:00      213.537500        1130.0\n",
       "2010-01-04 09:30:00.635999488-05:00   213.500000         100.0\n",
       "2010-01-04 09:30:00.648999936-05:00   213.550000         100.0\n",
       "2010-01-04 09:30:00.676999680-05:00   213.500000         100.0\n",
       "...                                          ...           ...\n",
       "2010-01-29 15:59:59.755999232-05:00   192.155000         300.0\n",
       "2010-01-29 15:59:59.772000-05:00      192.000000         200.0\n",
       "2010-01-29 15:59:59.813999616-05:00   192.185714        4048.0\n",
       "2010-01-29 15:59:59.845999616-05:00   192.090000        4100.0\n",
       "2010-01-29 15:59:59.987999744-05:00   192.000000        1300.0\n",
       "\n",
       "[562722 rows x 2 columns]"
      ]
     },
     "execution_count": 16,
     "metadata": {},
     "output_type": "execute_result"
    }
   ],
   "source": [
    "%%time \n",
    "read_TRTH_files(trade_files)"
   ]
  },
  {
   "cell_type": "markdown",
   "id": "ce62658f-6e5e-4f41-9683-629a49797b5b",
   "metadata": {},
   "source": [
    "#### Remark: Everithing works well, the program seems to be efficent : \n",
    "We read the data fast : (1 second to read more than 1  million data )"
   ]
  },
  {
   "cell_type": "markdown",
   "id": "0d7ccea8-d5f2-467f-9dbc-8f1ed74926c5",
   "metadata": {},
   "source": [
    "## BBO testing function "
   ]
  },
  {
   "cell_type": "code",
   "execution_count": 17,
   "id": "a296186a-2161-4b2c-a501-9ae105d88f6c",
   "metadata": {},
   "outputs": [
    {
     "data": {
      "text/plain": [
       "(                                     bid-price  bid-volume  ask-price  \\\n",
       " xltime                                                                  \n",
       " 2010-01-20 09:30:00.012998912-05:00     214.75           1     214.91   \n",
       " 2010-01-20 09:30:00.015000576-05:00     214.80           1     214.93   \n",
       " 2010-01-20 09:30:00.131000064-05:00     214.80           1     214.90   \n",
       " 2010-01-20 09:30:00.143000320-05:00     214.80           1     214.93   \n",
       " 2010-01-20 09:30:00.150999808-05:00     214.80           2     214.95   \n",
       " ...                                        ...         ...        ...   \n",
       " 2010-01-20 15:59:59.785999872-05:00     211.64          26     211.65   \n",
       " 2010-01-20 15:59:59.790999552-05:00     211.64          26     211.65   \n",
       " 2010-01-20 15:59:59.889999360-05:00     211.64          26     211.65   \n",
       " 2010-01-20 15:59:59.952999424-05:00     211.64          26     211.65   \n",
       " 2010-01-20 15:59:59.996999424-05:00     211.64          26     211.65   \n",
       " \n",
       "                                      ask-volume  \n",
       " xltime                                           \n",
       " 2010-01-20 09:30:00.012998912-05:00           1  \n",
       " 2010-01-20 09:30:00.015000576-05:00           1  \n",
       " 2010-01-20 09:30:00.131000064-05:00           1  \n",
       " 2010-01-20 09:30:00.143000320-05:00           1  \n",
       " 2010-01-20 09:30:00.150999808-05:00           1  \n",
       " ...                                         ...  \n",
       " 2010-01-20 15:59:59.785999872-05:00          21  \n",
       " 2010-01-20 15:59:59.790999552-05:00          11  \n",
       " 2010-01-20 15:59:59.889999360-05:00           8  \n",
       " 2010-01-20 15:59:59.952999424-05:00           7  \n",
       " 2010-01-20 15:59:59.996999424-05:00           1  \n",
       " \n",
       " [133555 rows x 4 columns],)"
      ]
     },
     "execution_count": 17,
     "metadata": {},
     "output_type": "execute_result"
    }
   ],
   "source": [
    "bbo_example = loading_parallel.load_TRTH_bbo(bbo_files[0])\n",
    "compute(bbo_example)"
   ]
  },
  {
   "cell_type": "markdown",
   "id": "fe76fc48-374e-4abf-a776-76c3669ce712",
   "metadata": {},
   "source": [
    "#### Now time to test on multiple bbo files "
   ]
  },
  {
   "cell_type": "code",
   "execution_count": 5,
   "id": "c3ed3710-6050-4968-b9c9-05bc642bee85",
   "metadata": {},
   "outputs": [],
   "source": [
    "def read_bbo_files(trade_files):\n",
    "    delayed_dfs = []\n",
    "    for file in trade_files:\n",
    "        delayed_df = delayed(loading_parallel.load_TRTH_bbo)(file)\n",
    "        delayed_dfs.append(delayed_df)\n",
    "    dfs = compute(*delayed_dfs)\n",
    "    final_df = pd.concat(dfs, ignore_index=False)\n",
    "    final_df = final_df.sort_index()\n",
    "    return final_df"
   ]
  },
  {
   "cell_type": "code",
   "execution_count": 19,
   "id": "f4156a4e-f733-4d81-88b9-2b4270b9ecad",
   "metadata": {},
   "outputs": [
    {
     "name": "stdout",
     "output_type": "stream",
     "text": [
      "CPU times: user 118 ms, sys: 112 ms, total: 229 ms\n",
      "Wall time: 1.55 s\n"
     ]
    },
    {
     "data": {
      "text/html": [
       "<div>\n",
       "<style scoped>\n",
       "    .dataframe tbody tr th:only-of-type {\n",
       "        vertical-align: middle;\n",
       "    }\n",
       "\n",
       "    .dataframe tbody tr th {\n",
       "        vertical-align: top;\n",
       "    }\n",
       "\n",
       "    .dataframe thead th {\n",
       "        text-align: right;\n",
       "    }\n",
       "</style>\n",
       "<table border=\"1\" class=\"dataframe\">\n",
       "  <thead>\n",
       "    <tr style=\"text-align: right;\">\n",
       "      <th></th>\n",
       "      <th>bid-price</th>\n",
       "      <th>bid-volume</th>\n",
       "      <th>ask-price</th>\n",
       "      <th>ask-volume</th>\n",
       "    </tr>\n",
       "    <tr>\n",
       "      <th>xltime</th>\n",
       "      <th></th>\n",
       "      <th></th>\n",
       "      <th></th>\n",
       "      <th></th>\n",
       "    </tr>\n",
       "  </thead>\n",
       "  <tbody>\n",
       "    <tr>\n",
       "      <th>2010-01-04 09:30:00.000999936-05:00</th>\n",
       "      <td>213.32</td>\n",
       "      <td>1</td>\n",
       "      <td>213.42</td>\n",
       "      <td>1</td>\n",
       "    </tr>\n",
       "    <tr>\n",
       "      <th>2010-01-04 09:30:00.009000192-05:00</th>\n",
       "      <td>213.37</td>\n",
       "      <td>1</td>\n",
       "      <td>213.50</td>\n",
       "      <td>3</td>\n",
       "    </tr>\n",
       "    <tr>\n",
       "      <th>2010-01-04 09:30:00.020000-05:00</th>\n",
       "      <td>213.38</td>\n",
       "      <td>2</td>\n",
       "      <td>213.50</td>\n",
       "      <td>1</td>\n",
       "    </tr>\n",
       "    <tr>\n",
       "      <th>2010-01-04 09:30:00.042000128-05:00</th>\n",
       "      <td>213.39</td>\n",
       "      <td>1</td>\n",
       "      <td>213.50</td>\n",
       "      <td>1</td>\n",
       "    </tr>\n",
       "    <tr>\n",
       "      <th>2010-01-04 09:30:00.087999744-05:00</th>\n",
       "      <td>213.40</td>\n",
       "      <td>1</td>\n",
       "      <td>213.50</td>\n",
       "      <td>1</td>\n",
       "    </tr>\n",
       "    <tr>\n",
       "      <th>...</th>\n",
       "      <td>...</td>\n",
       "      <td>...</td>\n",
       "      <td>...</td>\n",
       "      <td>...</td>\n",
       "    </tr>\n",
       "    <tr>\n",
       "      <th>2010-01-29 15:59:59.845999616-05:00</th>\n",
       "      <td>191.97</td>\n",
       "      <td>2</td>\n",
       "      <td>191.98</td>\n",
       "      <td>51</td>\n",
       "    </tr>\n",
       "    <tr>\n",
       "      <th>2010-01-29 15:59:59.889999360-05:00</th>\n",
       "      <td>191.97</td>\n",
       "      <td>2</td>\n",
       "      <td>191.98</td>\n",
       "      <td>50</td>\n",
       "    </tr>\n",
       "    <tr>\n",
       "      <th>2010-01-29 15:59:59.932999936-05:00</th>\n",
       "      <td>191.97</td>\n",
       "      <td>1</td>\n",
       "      <td>191.98</td>\n",
       "      <td>50</td>\n",
       "    </tr>\n",
       "    <tr>\n",
       "      <th>2010-01-29 15:59:59.997999616-05:00</th>\n",
       "      <td>191.97</td>\n",
       "      <td>1</td>\n",
       "      <td>192.12</td>\n",
       "      <td>61</td>\n",
       "    </tr>\n",
       "    <tr>\n",
       "      <th>2010-01-29 15:59:59.998999296-05:00</th>\n",
       "      <td>191.97</td>\n",
       "      <td>1</td>\n",
       "      <td>192.12</td>\n",
       "      <td>60</td>\n",
       "    </tr>\n",
       "  </tbody>\n",
       "</table>\n",
       "<p>2546491 rows × 4 columns</p>\n",
       "</div>"
      ],
      "text/plain": [
       "                                     bid-price  bid-volume  ask-price  \\\n",
       "xltime                                                                  \n",
       "2010-01-04 09:30:00.000999936-05:00     213.32           1     213.42   \n",
       "2010-01-04 09:30:00.009000192-05:00     213.37           1     213.50   \n",
       "2010-01-04 09:30:00.020000-05:00        213.38           2     213.50   \n",
       "2010-01-04 09:30:00.042000128-05:00     213.39           1     213.50   \n",
       "2010-01-04 09:30:00.087999744-05:00     213.40           1     213.50   \n",
       "...                                        ...         ...        ...   \n",
       "2010-01-29 15:59:59.845999616-05:00     191.97           2     191.98   \n",
       "2010-01-29 15:59:59.889999360-05:00     191.97           2     191.98   \n",
       "2010-01-29 15:59:59.932999936-05:00     191.97           1     191.98   \n",
       "2010-01-29 15:59:59.997999616-05:00     191.97           1     192.12   \n",
       "2010-01-29 15:59:59.998999296-05:00     191.97           1     192.12   \n",
       "\n",
       "                                     ask-volume  \n",
       "xltime                                           \n",
       "2010-01-04 09:30:00.000999936-05:00           1  \n",
       "2010-01-04 09:30:00.009000192-05:00           3  \n",
       "2010-01-04 09:30:00.020000-05:00              1  \n",
       "2010-01-04 09:30:00.042000128-05:00           1  \n",
       "2010-01-04 09:30:00.087999744-05:00           1  \n",
       "...                                         ...  \n",
       "2010-01-29 15:59:59.845999616-05:00          51  \n",
       "2010-01-29 15:59:59.889999360-05:00          50  \n",
       "2010-01-29 15:59:59.932999936-05:00          50  \n",
       "2010-01-29 15:59:59.997999616-05:00          61  \n",
       "2010-01-29 15:59:59.998999296-05:00          60  \n",
       "\n",
       "[2546491 rows x 4 columns]"
      ]
     },
     "execution_count": 19,
     "metadata": {},
     "output_type": "execute_result"
    }
   ],
   "source": [
    "%%time \n",
    "read_bbo_files(bbo_files)"
   ]
  },
  {
   "cell_type": "markdown",
   "id": "5c897bb4-d8f6-4ba4-86dd-659ea284c84a",
   "metadata": {},
   "source": [
    "#### Everything seems good : We are well using the load_bbo files "
   ]
  },
  {
   "cell_type": "markdown",
   "id": "f5ea8a74-b778-4dcc-ac7b-9155794fe7ea",
   "metadata": {},
   "source": [
    "## Now the big function to save: "
   ]
  },
  {
   "cell_type": "code",
   "execution_count": 6,
   "id": "bd28b513-107f-480a-a3bd-d27f1543106a",
   "metadata": {},
   "outputs": [],
   "source": [
    "@dask.delayed\n",
    "def load_merge_trade_bbo(ticker,date_start,\n",
    "                         date_end,\n",
    "                         dirBase,\n",
    "                         suffix=\"parquet\",\n",
    "                         suffix_save=None,\n",
    "                         dirSaveBase = None ,\n",
    "                         saveOnly=False,\n",
    "                         doSave=False):\n",
    "    \"\"\"\n",
    "    This function allows to merge trade and bbo together of a given ticker, \n",
    "    We should precise the destination to save the merged data \n",
    "    The date merged can be done in any period we would like to test on\n",
    "    By default the method returns the merged series, but can save or only save the merged series \n",
    "    Gien a location of the saving directory, the suffix is by default a parquet file. \n",
    "    \"\"\"\n",
    "    bbo_files,trade_files  = loading_parallel.extract_files(dirBase,ticker,date_start,date_end)\n",
    "    trades = read_TRTH_files(trade_files)\n",
    "    bbos = read_bbo_files(bbo_files)\n",
    "    try:\n",
    "        trades.shape + bbos.shape\n",
    "    except:\n",
    "        return None\n",
    "    \n",
    "    events=trades.join(bbos,how=\"outer\")\n",
    "    \n",
    "    if doSave:\n",
    "        dirSave=os.path.join(dirSaveBase,ticker)\n",
    "        if not os.path.isdir(dirSave):\n",
    "            os.makedirs(dirSave)\n",
    "\n",
    "        if suffix_save:\n",
    "            suffix=suffix_save\n",
    "        \n",
    "        file_events=dirSave+\"/\"+date_end +\"-\"+ date_end +  \"-events\"+\".\"+suffix\n",
    "       # pdb.set_trace()\n",
    "\n",
    "        saved=False\n",
    "        if suffix == \"arrow\":\n",
    "            events=vaex.from_pandas(events,copy_index=True)\n",
    "            events.export_arrow(file_events)\n",
    "            saved=True\n",
    "        \n",
    "        elif suffix == \"parquet\":\n",
    "            events.to_parquet(file_events,use_deprecated_int96_timestamps=True)\n",
    "            saved = True\n",
    "        \n",
    "        if not saved:\n",
    "            print(f\"suffix {suffix}: format not recognized\")\n",
    "\n",
    "        if saveOnly:\n",
    "            return saved\n",
    "    return events\n",
    "\n",
    "\n"
   ]
  },
  {
   "cell_type": "code",
   "execution_count": 7,
   "id": "17e7145d-4e39-442f-8ee3-548875da392a",
   "metadata": {},
   "outputs": [],
   "source": [
    "\n",
    "result = load_merge_trade_bbo(\n",
    "    ticker=\"AAPL.OQ-2010\",\n",
    "    date_start=\"2010-01-01\",\n",
    "    date_end=\"2010-12-31\",\n",
    "    dirBase=loading_dir,\n",
    "    suffix=\"arrow\",\n",
    "    suffix_save=None,\n",
    "    dirSaveBase=saving_dir,\n",
    "    saveOnly=False,\n",
    "    doSave=True\n",
    ")\n"
   ]
  },
  {
   "cell_type": "code",
   "execution_count": 8,
   "id": "e7365a58-4f1b-4192-84d0-1c8412b402d3",
   "metadata": {},
   "outputs": [
    {
     "name": "stdout",
     "output_type": "stream",
     "text": [
      "CPU times: user 329 ms, sys: 1.11 s, total: 1.44 s\n",
      "Wall time: 18.2 s\n"
     ]
    },
    {
     "data": {
      "text/plain": [
       "(#           trade_price    trade_volume    bid-price    bid-volume    ask-price    ask-volume    index\n",
       " 0           nan            nan             213.32       1.0           213.42       1.0           2010-01-04 14:30:00.000999936\n",
       " 1           nan            nan             213.37       1.0           213.5        3.0           2010-01-04 14:30:00.009000192\n",
       " 2           nan            nan             213.38       2.0           213.5        1.0           2010-01-04 14:30:00.020000000\n",
       " 3           nan            nan             213.39       1.0           213.5        1.0           2010-01-04 14:30:00.042000128\n",
       " 4           nan            nan             213.4        1.0           213.5        1.0           2010-01-04 14:30:00.087999744\n",
       " ...         ...            ...             ...          ...           ...          ...           ...\n",
       " 32,198,847  322.49         100.0           322.48       24.0          322.49       26.0          2010-12-31 20:59:59.733999872\n",
       " 32,198,848  nan            nan             322.48       24.0          322.49       16.0          2010-12-31 20:59:59.786999552\n",
       " 32,198,849  322.49         1600.0          322.48       24.0          322.66       41.0          2010-12-31 20:59:59.798999552\n",
       " 32,198,850  322.49         1093.0          nan          nan           nan          nan           2010-12-31 20:59:59.808000000\n",
       " 32,198,851  nan            nan             322.48       24.0          322.57       1.0           2010-12-31 20:59:59.833999872,)"
      ]
     },
     "execution_count": 8,
     "metadata": {},
     "output_type": "execute_result"
    }
   ],
   "source": [
    "%%time\n",
    "compute(result)"
   ]
  },
  {
   "cell_type": "markdown",
   "id": "a169b43a-4b48-44ed-9215-96a82bfd697d",
   "metadata": {},
   "source": [
    "#### Now reading the file arrow: "
   ]
  },
  {
   "cell_type": "code",
   "execution_count": 9,
   "id": "42d14609-5ef4-4d41-b30a-12246d8f4ed8",
   "metadata": {},
   "outputs": [],
   "source": [
    "checking_dir = os.path.join(saving_dir,\"AAPL.OQ-2010\")"
   ]
  },
  {
   "cell_type": "code",
   "execution_count": 10,
   "id": "4be5e0bb-7819-40ac-8400-82399a7d93df",
   "metadata": {},
   "outputs": [
    {
     "data": {
      "text/plain": [
       "['test1', '.ipynb_checkpoints', '2010-12-31-2010-12-31-events.arrow']"
      ]
     },
     "execution_count": 10,
     "metadata": {},
     "output_type": "execute_result"
    }
   ],
   "source": [
    "os.listdir(checking_dir)"
   ]
  },
  {
   "cell_type": "code",
   "execution_count": 11,
   "id": "8987df4f-ae9b-42d5-82f6-1d6c33e51ba3",
   "metadata": {},
   "outputs": [
    {
     "name": "stdout",
     "output_type": "stream",
     "text": [
      "CPU times: user 175 ms, sys: 112 ms, total: 287 ms\n",
      "Wall time: 338 ms\n"
     ]
    },
    {
     "data": {
      "text/html": [
       "<table>\n",
       "<thead>\n",
       "<tr><th>#                                     </th><th>trade_price  </th><th>trade_volume  </th><th>bid-price  </th><th>bid-volume  </th><th>ask-price  </th><th>ask-volume  </th><th>index                        </th></tr>\n",
       "</thead>\n",
       "<tbody>\n",
       "<tr><td><i style='opacity: 0.6'>0</i>         </td><td>nan          </td><td>nan           </td><td>213.32     </td><td>1.0         </td><td>213.42     </td><td>1.0         </td><td>2010-01-04 14:30:00.000999936</td></tr>\n",
       "<tr><td><i style='opacity: 0.6'>1</i>         </td><td>nan          </td><td>nan           </td><td>213.37     </td><td>1.0         </td><td>213.5      </td><td>3.0         </td><td>2010-01-04 14:30:00.009000192</td></tr>\n",
       "<tr><td><i style='opacity: 0.6'>2</i>         </td><td>nan          </td><td>nan           </td><td>213.38     </td><td>2.0         </td><td>213.5      </td><td>1.0         </td><td>2010-01-04 14:30:00.020000   </td></tr>\n",
       "<tr><td><i style='opacity: 0.6'>3</i>         </td><td>nan          </td><td>nan           </td><td>213.39     </td><td>1.0         </td><td>213.5      </td><td>1.0         </td><td>2010-01-04 14:30:00.042000128</td></tr>\n",
       "<tr><td><i style='opacity: 0.6'>4</i>         </td><td>nan          </td><td>nan           </td><td>213.4      </td><td>1.0         </td><td>213.5      </td><td>1.0         </td><td>2010-01-04 14:30:00.087999744</td></tr>\n",
       "<tr><td>...                                   </td><td>...          </td><td>...           </td><td>...        </td><td>...         </td><td>...        </td><td>...         </td><td>...                          </td></tr>\n",
       "<tr><td><i style='opacity: 0.6'>32,198,847</i></td><td>322.49       </td><td>100.0         </td><td>322.48     </td><td>24.0        </td><td>322.49     </td><td>26.0        </td><td>2010-12-31 20:59:59.733999872</td></tr>\n",
       "<tr><td><i style='opacity: 0.6'>32,198,848</i></td><td>nan          </td><td>nan           </td><td>322.48     </td><td>24.0        </td><td>322.49     </td><td>16.0        </td><td>2010-12-31 20:59:59.786999552</td></tr>\n",
       "<tr><td><i style='opacity: 0.6'>32,198,849</i></td><td>322.49       </td><td>1600.0        </td><td>322.48     </td><td>24.0        </td><td>322.66     </td><td>41.0        </td><td>2010-12-31 20:59:59.798999552</td></tr>\n",
       "<tr><td><i style='opacity: 0.6'>32,198,850</i></td><td>322.49       </td><td>1093.0        </td><td>nan        </td><td>nan         </td><td>nan        </td><td>nan         </td><td>2010-12-31 20:59:59.808000   </td></tr>\n",
       "<tr><td><i style='opacity: 0.6'>32,198,851</i></td><td>nan          </td><td>nan           </td><td>322.48     </td><td>24.0        </td><td>322.57     </td><td>1.0         </td><td>2010-12-31 20:59:59.833999872</td></tr>\n",
       "</tbody>\n",
       "</table>"
      ],
      "text/plain": [
       "#           trade_price    trade_volume    bid-price    bid-volume    ask-price    ask-volume    index\n",
       "0           nan            nan             213.32       1.0           213.42       1.0           2010-01-04 14:30:00.000999936\n",
       "1           nan            nan             213.37       1.0           213.5        3.0           2010-01-04 14:30:00.009000192\n",
       "2           nan            nan             213.38       2.0           213.5        1.0           2010-01-04 14:30:00.020000\n",
       "3           nan            nan             213.39       1.0           213.5        1.0           2010-01-04 14:30:00.042000128\n",
       "4           nan            nan             213.4        1.0           213.5        1.0           2010-01-04 14:30:00.087999744\n",
       "...         ...            ...             ...          ...           ...          ...           ...\n",
       "32,198,847  322.49         100.0           322.48       24.0          322.49       26.0          2010-12-31 20:59:59.733999872\n",
       "32,198,848  nan            nan             322.48       24.0          322.49       16.0          2010-12-31 20:59:59.786999552\n",
       "32,198,849  322.49         1600.0          322.48       24.0          322.66       41.0          2010-12-31 20:59:59.798999552\n",
       "32,198,850  322.49         1093.0          nan          nan           nan          nan           2010-12-31 20:59:59.808000\n",
       "32,198,851  nan            nan             322.48       24.0          322.57       1.0           2010-12-31 20:59:59.833999872"
      ]
     },
     "execution_count": 11,
     "metadata": {},
     "output_type": "execute_result"
    }
   ],
   "source": [
    "%%time\n",
    "\n",
    "df=vaex.open(os.path.join(checking_dir,\"2010-12-31-2010-12-31-events.arrow\"))\n",
    "df"
   ]
  },
  {
   "cell_type": "markdown",
   "id": "ae7d3c43-67ab-4e0a-b4c6-fb87bd9c2a9c",
   "metadata": {},
   "source": [
    "### Little inspection of the data "
   ]
  },
  {
   "cell_type": "code",
   "execution_count": 58,
   "id": "4de21ba2-2a5f-4b1b-b5de-ea7d65e1db42",
   "metadata": {},
   "outputs": [
    {
     "data": {
      "text/plain": [
       "['trade_price',\n",
       " 'trade_volume',\n",
       " 'bid-price',\n",
       " 'bid-volume',\n",
       " 'ask-price',\n",
       " 'ask-volume',\n",
       " 'index']"
      ]
     },
     "execution_count": 58,
     "metadata": {},
     "output_type": "execute_result"
    }
   ],
   "source": [
    "df.column_names"
   ]
  },
  {
   "cell_type": "code",
   "execution_count": 64,
   "id": "29cd5ac3-7f3f-47b8-96a6-3245d5356b24",
   "metadata": {},
   "outputs": [],
   "source": [
    "import pytz\n",
    "def convert_to_ny_timezone(dt):\n",
    "    # Assuming the original datetime is in UTC, make it timezone aware\n",
    "    utc_dt = pytz.utc.localize(dt)\n",
    "    # Convert to 'America/New_York' timezone\n",
    "    ny_dt = utc_dt.astimezone(pytz.timezone('America/New_York'))\n",
    "    return ny_dt"
   ]
  },
  {
   "cell_type": "code",
   "execution_count": 73,
   "id": "deed1fa9-89c4-4a1e-8abc-235849e6dc8b",
   "metadata": {},
   "outputs": [],
   "source": [
    "#df['time_new'] = df['index'].apply(convert_to_ny_timezone)\n"
   ]
  },
  {
   "cell_type": "code",
   "execution_count": 53,
   "id": "a2a50c8e-1175-4433-a6f5-15e9ee3c1d9c",
   "metadata": {},
   "outputs": [
    {
     "data": {
      "text/plain": [
       "['trade_price',\n",
       " 'trade_volume',\n",
       " 'bid-price',\n",
       " 'bid-volume',\n",
       " 'ask-price',\n",
       " 'ask-volume',\n",
       " 'index',\n",
       " '__index']"
      ]
     },
     "execution_count": 53,
     "metadata": {},
     "output_type": "execute_result"
    }
   ],
   "source": [
    "df.column_names"
   ]
  },
  {
   "cell_type": "code",
   "execution_count": 74,
   "id": "9134721c-9080-4568-b2d2-c11cc8f136f0",
   "metadata": {},
   "outputs": [
    {
     "data": {
      "text/html": [
       "<table>\n",
       "<thead>\n",
       "<tr><th>#                            </th><th style=\"text-align: right;\">  trade_price</th><th style=\"text-align: right;\">  trade_volume</th><th style=\"text-align: right;\">  bid-price</th><th style=\"text-align: right;\">  bid-volume</th><th style=\"text-align: right;\">  ask-price</th><th style=\"text-align: right;\">  ask-volume</th><th>index                        </th><th>time_new                  </th></tr>\n",
       "</thead>\n",
       "<tbody>\n",
       "<tr><td><i style='opacity: 0.6'>0</i></td><td style=\"text-align: right;\">          nan</td><td style=\"text-align: right;\">           nan</td><td style=\"text-align: right;\">     213.32</td><td style=\"text-align: right;\">           1</td><td style=\"text-align: right;\">     213.42</td><td style=\"text-align: right;\">           1</td><td>2010-01-04 14:30:00.000999936</td><td>2010-01-04 14:30:00.000999</td></tr>\n",
       "<tr><td><i style='opacity: 0.6'>1</i></td><td style=\"text-align: right;\">          nan</td><td style=\"text-align: right;\">           nan</td><td style=\"text-align: right;\">     213.37</td><td style=\"text-align: right;\">           1</td><td style=\"text-align: right;\">     213.5 </td><td style=\"text-align: right;\">           3</td><td>2010-01-04 14:30:00.009000192</td><td>2010-01-04 14:30:00.009000</td></tr>\n",
       "<tr><td><i style='opacity: 0.6'>2</i></td><td style=\"text-align: right;\">          nan</td><td style=\"text-align: right;\">           nan</td><td style=\"text-align: right;\">     213.38</td><td style=\"text-align: right;\">           2</td><td style=\"text-align: right;\">     213.5 </td><td style=\"text-align: right;\">           1</td><td>2010-01-04 14:30:00.020000   </td><td>2010-01-04 14:30:00.020000</td></tr>\n",
       "<tr><td><i style='opacity: 0.6'>3</i></td><td style=\"text-align: right;\">          nan</td><td style=\"text-align: right;\">           nan</td><td style=\"text-align: right;\">     213.39</td><td style=\"text-align: right;\">           1</td><td style=\"text-align: right;\">     213.5 </td><td style=\"text-align: right;\">           1</td><td>2010-01-04 14:30:00.042000128</td><td>2010-01-04 14:30:00.042000</td></tr>\n",
       "<tr><td><i style='opacity: 0.6'>4</i></td><td style=\"text-align: right;\">          nan</td><td style=\"text-align: right;\">           nan</td><td style=\"text-align: right;\">     213.4 </td><td style=\"text-align: right;\">           1</td><td style=\"text-align: right;\">     213.5 </td><td style=\"text-align: right;\">           1</td><td>2010-01-04 14:30:00.087999744</td><td>2010-01-04 14:30:00.087999</td></tr>\n",
       "<tr><td><i style='opacity: 0.6'>5</i></td><td style=\"text-align: right;\">          nan</td><td style=\"text-align: right;\">           nan</td><td style=\"text-align: right;\">     213.42</td><td style=\"text-align: right;\">           2</td><td style=\"text-align: right;\">     213.5 </td><td style=\"text-align: right;\">           1</td><td>2010-01-04 14:30:00.095999744</td><td>2010-01-04 14:30:00.095999</td></tr>\n",
       "<tr><td><i style='opacity: 0.6'>6</i></td><td style=\"text-align: right;\">          nan</td><td style=\"text-align: right;\">           nan</td><td style=\"text-align: right;\">     213.42</td><td style=\"text-align: right;\">           1</td><td style=\"text-align: right;\">     213.5 </td><td style=\"text-align: right;\">           1</td><td>2010-01-04 14:30:00.129999872</td><td>2010-01-04 14:30:00.129999</td></tr>\n",
       "<tr><td><i style='opacity: 0.6'>7</i></td><td style=\"text-align: right;\">          nan</td><td style=\"text-align: right;\">           nan</td><td style=\"text-align: right;\">     213.38</td><td style=\"text-align: right;\">           1</td><td style=\"text-align: right;\">     213.5 </td><td style=\"text-align: right;\">           1</td><td>2010-01-04 14:30:00.140999936</td><td>2010-01-04 14:30:00.140999</td></tr>\n",
       "<tr><td><i style='opacity: 0.6'>8</i></td><td style=\"text-align: right;\">          nan</td><td style=\"text-align: right;\">           nan</td><td style=\"text-align: right;\">     213.41</td><td style=\"text-align: right;\">           2</td><td style=\"text-align: right;\">     213.5 </td><td style=\"text-align: right;\">           1</td><td>2010-01-04 14:30:00.141999616</td><td>2010-01-04 14:30:00.141999</td></tr>\n",
       "<tr><td><i style='opacity: 0.6'>9</i></td><td style=\"text-align: right;\">          nan</td><td style=\"text-align: right;\">           nan</td><td style=\"text-align: right;\">     213.39</td><td style=\"text-align: right;\">           1</td><td style=\"text-align: right;\">     213.5 </td><td style=\"text-align: right;\">           1</td><td>2010-01-04 14:30:00.148000   </td><td>2010-01-04 14:30:00.148000</td></tr>\n",
       "</tbody>\n",
       "</table>"
      ],
      "text/plain": [
       "  #    trade_price    trade_volume    bid-price    bid-volume    ask-price    ask-volume  index                          time_new\n",
       "  0            nan             nan       213.32             1       213.42             1  2010-01-04 14:30:00.000999936  2010-01-04 14:30:00.000999\n",
       "  1            nan             nan       213.37             1       213.5              3  2010-01-04 14:30:00.009000192  2010-01-04 14:30:00.009000\n",
       "  2            nan             nan       213.38             2       213.5              1  2010-01-04 14:30:00.020000     2010-01-04 14:30:00.020000\n",
       "  3            nan             nan       213.39             1       213.5              1  2010-01-04 14:30:00.042000128  2010-01-04 14:30:00.042000\n",
       "  4            nan             nan       213.4              1       213.5              1  2010-01-04 14:30:00.087999744  2010-01-04 14:30:00.087999\n",
       "  5            nan             nan       213.42             2       213.5              1  2010-01-04 14:30:00.095999744  2010-01-04 14:30:00.095999\n",
       "  6            nan             nan       213.42             1       213.5              1  2010-01-04 14:30:00.129999872  2010-01-04 14:30:00.129999\n",
       "  7            nan             nan       213.38             1       213.5              1  2010-01-04 14:30:00.140999936  2010-01-04 14:30:00.140999\n",
       "  8            nan             nan       213.41             2       213.5              1  2010-01-04 14:30:00.141999616  2010-01-04 14:30:00.141999\n",
       "  9            nan             nan       213.39             1       213.5              1  2010-01-04 14:30:00.148000     2010-01-04 14:30:00.148000"
      ]
     },
     "execution_count": 74,
     "metadata": {},
     "output_type": "execute_result"
    }
   ],
   "source": [
    "df.head()"
   ]
  },
  {
   "cell_type": "markdown",
   "id": "dda8603a-bf34-4249-9166-8934bd7877ae",
   "metadata": {},
   "source": [
    "#### Last thing is to save: "
   ]
  },
  {
   "cell_type": "code",
   "execution_count": 68,
   "id": "fdb50a86-7351-4031-a78c-e381a396e8e3",
   "metadata": {},
   "outputs": [
    {
     "data": {
      "text/plain": [
       "['test1', '.ipynb_checkpoints', '2010-12-31-2010-12-31-events.arrow']"
      ]
     },
     "execution_count": 68,
     "metadata": {},
     "output_type": "execute_result"
    }
   ],
   "source": [
    "os.listdir(checking_dir)"
   ]
  },
  {
   "cell_type": "code",
   "execution_count": 12,
   "id": "3398ed79-b9fa-4cc7-9665-c9bfd2ca0f0d",
   "metadata": {},
   "outputs": [
    {
     "name": "stdout",
     "output_type": "stream",
     "text": [
      "CPU times: user 33.5 ms, sys: 603 ms, total: 636 ms\n",
      "Wall time: 3.15 s\n"
     ]
    }
   ],
   "source": [
    "%%time\n",
    "df.export(os.path.join(checking_dir,\"test1\",\n",
    "                      '2010-12-31-2010-12-31-events.arrow'),\n",
    "          compression=\"brotli\")   # 20Gb uncompressed\n",
    "         "
   ]
  },
  {
   "cell_type": "code",
   "execution_count": null,
   "id": "f75e3f59-c496-47b4-a3d0-2bac2f227c5a",
   "metadata": {},
   "outputs": [],
   "source": [
    "df.dtypes"
   ]
  },
  {
   "cell_type": "code",
   "execution_count": null,
   "id": "279bb8a8-dfa0-4aec-998f-56de2ff751ae",
   "metadata": {},
   "outputs": [],
   "source": []
  }
 ],
 "metadata": {
  "kernelspec": {
   "display_name": "Python 3 (ipykernel)",
   "language": "python",
   "name": "python3"
  },
  "language_info": {
   "codemirror_mode": {
    "name": "ipython",
    "version": 3
   },
   "file_extension": ".py",
   "mimetype": "text/x-python",
   "name": "python",
   "nbconvert_exporter": "python",
   "pygments_lexer": "ipython3",
   "version": "3.10.13"
  }
 },
 "nbformat": 4,
 "nbformat_minor": 5
}

{
 "cells": [
  {
   "cell_type": "code",
   "execution_count": 57,
   "id": "cd1fbfff",
   "metadata": {},
   "outputs": [],
   "source": [
    "import os \n",
    "import pandas as pd\n",
    "import tarfile\n",
    "from collections import Counter\n",
    "import gzip\n",
    "import shutil\n",
    "from helpers import *\n",
    "pd.set_option(\"display.max_colwidth\", None)"
   ]
  },
  {
   "cell_type": "markdown",
   "id": "559b87b5",
   "metadata": {},
   "source": [
    "## 1) Data Exploring"
   ]
  },
  {
   "cell_type": "code",
   "execution_count": 19,
   "id": "c1a071cf-a133-4f60-93f4-b843af8e29d8",
   "metadata": {},
   "outputs": [
    {
     "name": "stdout",
     "output_type": "stream",
     "text": [
      "We have data for 31 stocks\n",
      "['WMT.N-2010.tar', 'AMGN.OQ-2010.tar', 'RTX.N-2010.tar', 'IBM.N-2010.tar', 'UTX.N-2010.tar', 'NKE.N-2010.tar', 'VZ.N-2010.tar', 'KO.N-2010.tar', 'XOM.N-2010.tar', 'GS.N-2010.tar', 'JPM.N-2010.tar', 'AXP.N-2010.tar', 'MRK.N-2010.tar', 'WBA.OQ-2010.tar', 'CAT.N-2010.tar', 'DOW.N-2010.tar', 'V.N-2010.tar', 'CVX.N-2010.tar', 'PFE.N-2010.tar', 'JNJ.N-2010.tar', 'MMM.N-2010.tar', 'TRV.N-2010.tar', 'CSCO.OQ-2010.tar', 'PG.N-2010.tar', 'HD.N-2010.tar', 'BA.N-2010.tar', 'MSFT.OQ-2010.tar', 'UNH.N-2010.tar', 'MCD.N-2010.tar', 'INTC.OQ-2010.tar', 'AAPL.OQ-2010.tar']\n",
      "The Different types of files given are : Counter({'.gz': 16182})\n"
     ]
    }
   ],
   "source": [
    "current_dir = os.getcwd()\n",
    "src_path = os.path.join(current_dir,\"src\") \n",
    "dataLoadingDirectory = os.path.join(current_dir,\"data\",\"raw\",\n",
    "                                    \"flash_crash_DJIA\",\"tar_files\")\n",
    "dataSavingDirectory  = os.path.join(current_dir,\"data\",\"raw\",\n",
    "                                    \"flash_crash_DJIA\",\"csv_files\")\n",
    "\n",
    "if not os.path.exists(dataSavingDirectory): os.makedirs(dataSavingDirectory)\n",
    "\n",
    "#### Checking .tar file names \n",
    "tar_files = [os.path.join(dataLoadingDirectory,tar_file) for tar_file in os.listdir(dataLoadingDirectory) ]\n",
    "print( f\"We have data for {len(os.listdir(dataLoadingDirectory))} stocks\")\n",
    "print(os.listdir(dataLoadingDirectory))\n",
    "\n",
    "#### Checking the different types of files in the .tar files\n",
    "file_types_counter = Counter()\n",
    "for tar_file in tar_files:\n",
    "    file_types = list_file_types_in_tar(tar_file)  \n",
    "    file_types_counter.update(file_types)\n",
    "print(f\"The Different types of files given are : {file_types_counter}\")"
   ]
  },
  {
   "cell_type": "markdown",
   "id": "413bbeaa-7efa-49de-878e-f704181a66ed",
   "metadata": {},
   "source": [
    "### a) Data Extraction and cleaning:"
   ]
  },
  {
   "cell_type": "code",
   "execution_count": 20,
   "id": "8ca44427-34bc-4934-b6bb-ac4a27c74457",
   "metadata": {},
   "outputs": [],
   "source": [
    "# Next step: For each tar file : Create a folder with its name and extract the files inside it, the all folders will be saved in general folder csv_files\n",
    "for tar_file in tar_files:\n",
    "    # Extract the name of the .tar file without extension to use as directory name\n",
    "    dir_name = os.path.splitext(os.path.basename(tar_file))[0]\n",
    "    dir_path = os.path.join(dataSavingDirectory, dir_name)\n",
    "\n",
    "    # Create a directory for extracted files\n",
    "    if not os.path.exists(dir_path):\n",
    "        os.makedirs(dir_path)\n",
    "\n",
    "    # Open the .tar file\n",
    "    with tarfile.open(tar_file, \"r\") as tar:\n",
    "        # Extract each file directly, ignoring the internal directory structure\n",
    "        for member in tar.getmembers():\n",
    "            if member.isfile():\n",
    "                member.name = os.path.basename(member.name)  # Remove the internal directory structure\n",
    "                tar.extract(member, dir_path)\n"
   ]
  },
  {
   "cell_type": "code",
   "execution_count": 33,
   "id": "ecf75e83-2bee-49b9-b23e-b5197882f6cd",
   "metadata": {},
   "outputs": [
    {
     "name": "stdout",
     "output_type": "stream",
     "text": [
      "--------------------------------------------------\n",
      "folder /Users/yacine/Desktop/Flash_crash/data/raw/flash_crash_DJIA/csv_files/GS.N-2010 has 524 files\n",
      "['2010-08-26-GS.N-bbo.csv.gz', '2010-01-27-GS.N-trade.csv.gz', '2010-07-06-GS.N-trade.csv.gz', '2010-11-25-GS.N-bbo.csv.gz', '2010-07-16-GS.N-bbo.csv.gz']\n"
     ]
    }
   ],
   "source": [
    "#### Example of Reading a csv.gz files \n",
    "directory = os.listdir(dataSavingDirectory)\n",
    "\n",
    "dir_folder = os.path.join(dataSavingDirectory,directory[0])\n",
    "print(\"-\"*50)\n",
    "print(f\"folder {dir_folder} has {len(os.listdir(dir_folder))} files\") \n",
    "print(os.listdir(dir_folder)[:5])"
   ]
  },
  {
   "cell_type": "code",
   "execution_count": 37,
   "id": "6da1b26a-9f09-4afd-8b8d-d291f7fe417d",
   "metadata": {},
   "outputs": [],
   "source": [
    "### Making trade and bbo folder for each stock \n",
    "directories = [os.path.join(dataSavingDirectory, directory) for directory in os.listdir(dataSavingDirectory) if not directory.endswith('.DS_Store')]\n",
    "trade_directories = [os.path.join(directory,\"trade\") for directory in directories ]\n",
    "bbo_directories = [os.path.join(directory,\"bbo\") for directory in directories]\n",
    "\n",
    "### Creating these directories if not existed yet : \n",
    "for trade_dir in trade_directories:\n",
    "    if not os.path.exists(trade_dir) :\n",
    "        os.makedirs(trade_dir)\n",
    "\n",
    "for bbo_dir in bbo_directories:\n",
    "    if not os.path.exists(bbo_dir) :\n",
    "        os.makedirs(bbo_dir)\n",
    "\n",
    "### We will iterate over each directory : \n",
    "for directory in directories:\n",
    "    trade_dir  = os.path.join(directory,\"trade\")\n",
    "    bbo_dir    = os.path.join(directory,\"bbo\")\n",
    "    for filename in os.listdir(directory):\n",
    "        if filename.endswith(\".csv.gz\"):\n",
    "            if 'trade' in filename:\n",
    "            # Move trade files to the trade directory\n",
    "                shutil.move(os.path.join(directory, filename), os.path.join(trade_dir, filename))\n",
    "            elif 'bbo' in filename:\n",
    "            # Move bbo files to the bbo directory\n",
    "                shutil.move(os.path.join(directory, filename), os.path.join(bbo_dir, filename))\n"
   ]
  },
  {
   "cell_type": "code",
   "execution_count": 54,
   "id": "60b54f10-b426-404d-81e1-0c2ecccd47d5",
   "metadata": {},
   "outputs": [
    {
     "name": "stdout",
     "output_type": "stream",
     "text": [
      "Number of files in /Users/yacine/Desktop/Flash_crash/data/raw/flash_crash_DJIA/csv_files/GS.N-2010/trade =  261\n",
      "2010-01-27-GS.N-trade.csv.gz\n"
     ]
    },
    {
     "data": {
      "text/html": [
       "<div>\n",
       "<style scoped>\n",
       "    .dataframe tbody tr th:only-of-type {\n",
       "        vertical-align: middle;\n",
       "    }\n",
       "\n",
       "    .dataframe tbody tr th {\n",
       "        vertical-align: top;\n",
       "    }\n",
       "\n",
       "    .dataframe thead th {\n",
       "        text-align: right;\n",
       "    }\n",
       "</style>\n",
       "<table border=\"1\" class=\"dataframe\">\n",
       "  <thead>\n",
       "    <tr style=\"text-align: right;\">\n",
       "      <th></th>\n",
       "      <th>xltime</th>\n",
       "      <th>trade-price</th>\n",
       "      <th>trade-volume</th>\n",
       "      <th>trade-stringflag</th>\n",
       "      <th>trade-rawflag</th>\n",
       "    </tr>\n",
       "  </thead>\n",
       "  <tbody>\n",
       "    <tr>\n",
       "      <th>0</th>\n",
       "      <td>40205.604499</td>\n",
       "      <td>150.75</td>\n",
       "      <td>122600</td>\n",
       "      <td>auction</td>\n",
       "      <td>[CTS_QUAL       ]O                              [GV1_TEXT       ] O                             [USER           ]Open                           [USER           ]High                           [USER           ]Low</td>\n",
       "    </tr>\n",
       "    <tr>\n",
       "      <th>1</th>\n",
       "      <td>40205.604500</td>\n",
       "      <td>150.80</td>\n",
       "      <td>100</td>\n",
       "      <td>uncategorized</td>\n",
       "      <td>[CTS_QUAL       ]                               [GV1_TEXT       ]@                              [USER           ]High</td>\n",
       "    </tr>\n",
       "    <tr>\n",
       "      <th>2</th>\n",
       "      <td>40205.604500</td>\n",
       "      <td>150.80</td>\n",
       "      <td>100</td>\n",
       "      <td>uncategorized</td>\n",
       "      <td>[CTS_QUAL       ]                               [GV1_TEXT       ]@</td>\n",
       "    </tr>\n",
       "    <tr>\n",
       "      <th>3</th>\n",
       "      <td>40205.604500</td>\n",
       "      <td>150.80</td>\n",
       "      <td>100</td>\n",
       "      <td>uncategorized</td>\n",
       "      <td>[CTS_QUAL       ]                               [GV1_TEXT       ]@</td>\n",
       "    </tr>\n",
       "    <tr>\n",
       "      <th>4</th>\n",
       "      <td>40205.604500</td>\n",
       "      <td>150.80</td>\n",
       "      <td>100</td>\n",
       "      <td>uncategorized</td>\n",
       "      <td>[CTS_QUAL       ]                               [GV1_TEXT       ]@</td>\n",
       "    </tr>\n",
       "  </tbody>\n",
       "</table>\n",
       "</div>"
      ],
      "text/plain": [
       "         xltime  trade-price  trade-volume trade-stringflag  \\\n",
       "0  40205.604499       150.75        122600          auction   \n",
       "1  40205.604500       150.80           100    uncategorized   \n",
       "2  40205.604500       150.80           100    uncategorized   \n",
       "3  40205.604500       150.80           100    uncategorized   \n",
       "4  40205.604500       150.80           100    uncategorized   \n",
       "\n",
       "                                                                                                                                                                                                                                      trade-rawflag  \n",
       "0  [CTS_QUAL       ]O                              [GV1_TEXT       ] O                             [USER           ]Open                           [USER           ]High                           [USER           ]Low                              \n",
       "1                                                                                                  [CTS_QUAL       ]                               [GV1_TEXT       ]@                              [USER           ]High                             \n",
       "2                                                                                                                                                  [CTS_QUAL       ]                               [GV1_TEXT       ]@                                \n",
       "3                                                                                                                                                  [CTS_QUAL       ]                               [GV1_TEXT       ]@                                \n",
       "4                                                                                                                                                  [CTS_QUAL       ]                               [GV1_TEXT       ]@                                "
      ]
     },
     "execution_count": 54,
     "metadata": {},
     "output_type": "execute_result"
    }
   ],
   "source": [
    "## Example of trade file : \n",
    "trade_dir = trade_directories[0]\n",
    "print(f\"Number of files in {trade_dir} = \",len(os.listdir(trade_dir)))\n",
    "\n",
    "trade_file = os.listdir(trade_dir)[0]\n",
    "# Using gzip.open to decompress the file and read it with pandas\n",
    "with gzip.open(os.path.join(trade_dir,trade_file), 'rt') as file:\n",
    "    df = pd.read_csv(file)\n",
    "print(trade_file)\n",
    "df.head()"
   ]
  },
  {
   "cell_type": "code",
   "execution_count": 55,
   "id": "02f694ab-68a2-4599-a1f5-7fb12b6d39e3",
   "metadata": {},
   "outputs": [
    {
     "name": "stdout",
     "output_type": "stream",
     "text": [
      "Number of files in /Users/yacine/Desktop/Flash_crash/data/raw/flash_crash_DJIA/csv_files/GS.N-2010/bbo =  261\n"
     ]
    },
    {
     "data": {
      "text/html": [
       "<div>\n",
       "<style scoped>\n",
       "    .dataframe tbody tr th:only-of-type {\n",
       "        vertical-align: middle;\n",
       "    }\n",
       "\n",
       "    .dataframe tbody tr th {\n",
       "        vertical-align: top;\n",
       "    }\n",
       "\n",
       "    .dataframe thead th {\n",
       "        text-align: right;\n",
       "    }\n",
       "</style>\n",
       "<table border=\"1\" class=\"dataframe\">\n",
       "  <thead>\n",
       "    <tr style=\"text-align: right;\">\n",
       "      <th></th>\n",
       "      <th>xltime</th>\n",
       "      <th>bid-price</th>\n",
       "      <th>bid-volume</th>\n",
       "      <th>ask-price</th>\n",
       "      <th>ask-volume</th>\n",
       "    </tr>\n",
       "  </thead>\n",
       "  <tbody>\n",
       "    <tr>\n",
       "      <th>0</th>\n",
       "      <td>40416.562628</td>\n",
       "      <td>144.70</td>\n",
       "      <td>1</td>\n",
       "      <td>144.93</td>\n",
       "      <td>1</td>\n",
       "    </tr>\n",
       "    <tr>\n",
       "      <th>1</th>\n",
       "      <td>40416.562628</td>\n",
       "      <td>144.76</td>\n",
       "      <td>1</td>\n",
       "      <td>144.93</td>\n",
       "      <td>1</td>\n",
       "    </tr>\n",
       "    <tr>\n",
       "      <th>2</th>\n",
       "      <td>40416.562628</td>\n",
       "      <td>144.76</td>\n",
       "      <td>2</td>\n",
       "      <td>144.93</td>\n",
       "      <td>1</td>\n",
       "    </tr>\n",
       "    <tr>\n",
       "      <th>3</th>\n",
       "      <td>40416.562628</td>\n",
       "      <td>144.76</td>\n",
       "      <td>2</td>\n",
       "      <td>144.93</td>\n",
       "      <td>2</td>\n",
       "    </tr>\n",
       "  </tbody>\n",
       "</table>\n",
       "</div>"
      ],
      "text/plain": [
       "         xltime  bid-price  bid-volume  ask-price  ask-volume\n",
       "0  40416.562628     144.70           1     144.93           1\n",
       "1  40416.562628     144.76           1     144.93           1\n",
       "2  40416.562628     144.76           2     144.93           1\n",
       "3  40416.562628     144.76           2     144.93           2"
      ]
     },
     "execution_count": 55,
     "metadata": {},
     "output_type": "execute_result"
    }
   ],
   "source": [
    "## Example of bbo file : \n",
    "bbo_dir = bbo_directories[0]\n",
    "bbo_file = os.listdir(bbo_dir)[0]\n",
    "print(f\"Number of files in {bbo_dir} = \",len(os.listdir(bbo_dir)))\n",
    "\n",
    "# Using gzip.open to decompress the file and read it with pandas\n",
    "with gzip.open(os.path.join(bbo_dir,bbo_file), 'rt') as file:\n",
    "    df = pd.read_csv(file)\n",
    "df.head(4)"
   ]
  },
  {
   "cell_type": "markdown",
   "id": "ec7c7287-031b-4037-8645-e2b1e9e7cacf",
   "metadata": {},
   "source": [
    "### b) Regrouping csv files by month (optional): "
   ]
  },
  {
   "cell_type": "code",
   "execution_count": 60,
   "id": "f34e630d-c743-4151-9e4b-be20746b30e7",
   "metadata": {},
   "outputs": [],
   "source": [
    "createFoldersGroupingYnMonthfiles(trade_directories) #trade_directories by month\n",
    "createFoldersGroupingYnMonthfiles(bbo_directories)  #bbo_directories by month"
   ]
  },
  {
   "cell_type": "markdown",
   "id": "3a74054e-8d27-4540-9327-3049aa419593",
   "metadata": {},
   "source": [
    "## Conclusion of this Notebook:\n",
    " \n",
    "In this notebook we started from .tar files that were located in folder .tar files, the first thing we did is to explore the contents of the different tar files : we find out all were .gz files: For each tar file  we created its corresponding folder inside csv_file folder , after exploring the names of the gz files, we noticed there were trade and bbo files, as a second step, for each stock, we made a directory of trade regrouping the csv.gz trade files and and a bbo directory regrouping the csv.gz bbo (Best bid and offer ) files, we made in this notebook an inital exploration of a random trade file and a random bbo file, as a final step: We regroup files based on the year and month: Thus the final  structure is:    \n",
    "csv_files : Directoriy --> Directory for each stock ---> trade and boo directories --> year&month directories --> csv.gz files \n",
    "\n",
    "https://chat.openai.com/share/0f635485-122d-41d3-8d32-7416801992b2"
   ]
  }
 ],
 "metadata": {
  "kernelspec": {
   "display_name": "Python 3 (ipykernel)",
   "language": "python",
   "name": "python3"
  },
  "language_info": {
   "codemirror_mode": {
    "name": "ipython",
    "version": 3
   },
   "file_extension": ".py",
   "mimetype": "text/x-python",
   "name": "python",
   "nbconvert_exporter": "python",
   "pygments_lexer": "ipython3",
   "version": "3.8.17"
  }
 },
 "nbformat": 4,
 "nbformat_minor": 5
}
